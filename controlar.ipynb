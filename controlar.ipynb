{
 "cells": [
  {
   "cell_type": "code",
   "execution_count": 33,
   "id": "30e12b70",
   "metadata": {},
   "outputs": [
    {
     "name": "stdout",
     "output_type": "stream",
     "text": [
      "Procesando archivo: README.md -> 169 lineas\n",
      "Procesando archivo: online.md -> 101 lineas\n",
      "Procesando archivo: datos/alumnos.md -> 112 lineas\n",
      "\n",
      "== Online vs... ==\n",
      " - online - resultados: ['62564']\n",
      " - online - alumnos   : ['62564']\n",
      "\n",
      "== Resultado vs ... ==\n",
      " - resultados - online : ['61059', '61061', '61322', '61352', '61540', '61566', '61581', '61720', '61730', '62612']\n",
      " - resultados - alumnos: []\n",
      "\n",
      "== Alumnos vs ... ==\n",
      " - alumnos - online    : ['61059', '61061', '61322', '61352', '61540', '61566', '61581', '61720', '61730', '62612']\n",
      " - alumnos - resultados: []\n",
      "\n",
      "== Alumnos vs Resultados ==\n",
      " - alumnos - resultados: []\n",
      " - alumnos - resultados: []\n"
     ]
    }
   ],
   "source": [
    "import re\n",
    "\n",
    "def extraer_legajos(archivo):\n",
    "    print(f\"Procesando archivo: {archivo} -> {len(open(archivo).readlines())} lineas\")\n",
    "    legajos = [match.group(1) for linea in open(archivo) if (match := re.search(r\"\\b(\\d{5})\\b\", linea))]\n",
    "    return set(legajos)\n",
    "\n",
    "resultados = extraer_legajos(\"README.md\")\n",
    "online     = extraer_legajos(\"online.md\")\n",
    "alumnos    = extraer_legajos(\"datos/alumnos.md\")\n",
    "\n",
    "# print(resultados)\n",
    "# print(online)\n",
    "# print(alumnos)\n",
    "\n",
    "print(\"\\n== Online vs... ==\")\n",
    "print(f\" - online - resultados: {sorted(online - resultados)}\")\n",
    "print(f\" - online - alumnos   : {sorted(online - alumnos)}\")\n",
    "\n",
    "print(\"\\n== Resultado vs ... ==\")\n",
    "a = resultados - online\n",
    "print(f\" - resultados - online : {sorted(a)}\")\n",
    "print(f\" - resultados - alumnos: {sorted(resultados - alumnos)}\")\n",
    "\n",
    "print(\"\\n== Alumnos vs ... ==\")\n",
    "b = alumnos - online\n",
    "print(f\" - alumnos - online    : {sorted(b)}\")\n",
    "print(f\" - alumnos - resultados: {sorted(alumnos - resultados)}\")\n",
    "\n",
    "print(\"\\n== Alumnos vs Resultados ==\")\n",
    "print(f\" - alumnos - resultados: {sorted(a - b)}\")\n",
    "print(f\" - alumnos - resultados: {sorted(b - a)}\")"
   ]
  },
  {
   "cell_type": "code",
   "execution_count": null,
   "id": "3c66da10",
   "metadata": {},
   "outputs": [],
   "source": []
  }
 ],
 "metadata": {
  "kernelspec": {
   "display_name": "Python 3",
   "language": "python",
   "name": "python3"
  },
  "language_info": {
   "codemirror_mode": {
    "name": "ipython",
    "version": 3
   },
   "file_extension": ".py",
   "mimetype": "text/x-python",
   "name": "python",
   "nbconvert_exporter": "python",
   "pygments_lexer": "ipython3",
   "version": "3.12.5"
  }
 },
 "nbformat": 4,
 "nbformat_minor": 5
}
